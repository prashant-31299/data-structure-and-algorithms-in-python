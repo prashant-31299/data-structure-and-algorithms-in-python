{
 "cells": [
  {
   "cell_type": "markdown",
   "id": "4bdd1204",
   "metadata": {},
   "source": [
    "A recursive function is a function that calls itself until it doesn’t.\n",
    "\n",
    "Suppose you need to develop a countdown function that counts down from a specified number to zero.\n",
    "For example, if you call the function that counts down from 3, it’ll show the following output:\n",
    "\n",
    "\n",
    "\n"
   ]
  },
  {
   "cell_type": "code",
   "execution_count": 2,
   "id": "f47f8150",
   "metadata": {},
   "outputs": [
    {
     "name": "stdout",
     "output_type": "stream",
     "text": [
      "3\n"
     ]
    }
   ],
   "source": [
    "def count_down(start):\n",
    "    \"\"\" Count down from a number  \"\"\"\n",
    "    print(start)\n",
    "\n",
    "\n",
    "count_down(3) # it print only 3 "
   ]
  }
 ],
 "metadata": {
  "kernelspec": {
   "display_name": "Python 3",
   "language": "python",
   "name": "python3"
  },
  "language_info": {
   "codemirror_mode": {
    "name": "ipython",
    "version": 3
   },
   "file_extension": ".py",
   "mimetype": "text/x-python",
   "name": "python",
   "nbconvert_exporter": "python",
   "pygments_lexer": "ipython3",
   "version": "3.8.8"
  }
 },
 "nbformat": 4,
 "nbformat_minor": 5
}
